{
 "cells": [
  {
   "cell_type": "markdown",
   "id": "986a2cc6-690f-4f2b-acd6-41ae1a60230d",
   "metadata": {
    "tags": []
   },
   "source": [
    "Q1. Create one variable containing following type of data:\n",
    "\n",
    "(i)\tstring\n",
    "\n",
    "(ii)\tlist\n",
    "\n",
    "(iii)\tfloat\n",
    "\n",
    "(iv)\ttuple"
   ]
  },
  {
   "cell_type": "code",
   "execution_count": 1,
   "id": "2d9a4acc-0155-46a0-8b57-3d19d505b5b8",
   "metadata": {},
   "outputs": [],
   "source": [
    "s=\"abcd\""
   ]
  },
  {
   "cell_type": "code",
   "execution_count": 2,
   "id": "f501495b-02f4-449b-b14b-6a9ea1a73d76",
   "metadata": {},
   "outputs": [
    {
     "data": {
      "text/plain": [
       "str"
      ]
     },
     "execution_count": 2,
     "metadata": {},
     "output_type": "execute_result"
    }
   ],
   "source": [
    "type(s)"
   ]
  },
  {
   "cell_type": "code",
   "execution_count": null,
   "id": "476983fd-33cb-45ec-b587-24e3de2378f2",
   "metadata": {},
   "outputs": [],
   "source": []
  },
  {
   "cell_type": "code",
   "execution_count": 3,
   "id": "76225839-c1eb-4d11-8d22-1fb442a65933",
   "metadata": {},
   "outputs": [],
   "source": [
    "l=[1,3,4,77,54,2]"
   ]
  },
  {
   "cell_type": "code",
   "execution_count": 4,
   "id": "ab811547-e539-4d81-9ba0-633ccc17b3f8",
   "metadata": {},
   "outputs": [
    {
     "data": {
      "text/plain": [
       "list"
      ]
     },
     "execution_count": 4,
     "metadata": {},
     "output_type": "execute_result"
    }
   ],
   "source": [
    "type(l)"
   ]
  },
  {
   "cell_type": "code",
   "execution_count": null,
   "id": "cc15c9d4-e353-499d-a9b9-8e5efcdd0c7e",
   "metadata": {},
   "outputs": [],
   "source": []
  },
  {
   "cell_type": "code",
   "execution_count": 15,
   "id": "2d209880-a3a1-4880-b253-90443978b47b",
   "metadata": {},
   "outputs": [],
   "source": [
    "f=2.3"
   ]
  },
  {
   "cell_type": "code",
   "execution_count": 16,
   "id": "149196a0-a14a-4844-ad6f-c8de1b847a3f",
   "metadata": {},
   "outputs": [
    {
     "data": {
      "text/plain": [
       "float"
      ]
     },
     "execution_count": 16,
     "metadata": {},
     "output_type": "execute_result"
    }
   ],
   "source": [
    "type(f)"
   ]
  },
  {
   "cell_type": "code",
   "execution_count": null,
   "id": "6473f3e1-a733-4cdd-9d89-8d9df3d34fe6",
   "metadata": {},
   "outputs": [],
   "source": []
  },
  {
   "cell_type": "code",
   "execution_count": 21,
   "id": "e2bbb9fb-ee99-4e64-92c9-2b468737d480",
   "metadata": {},
   "outputs": [],
   "source": [
    "t=(2,3,[4,7])"
   ]
  },
  {
   "cell_type": "code",
   "execution_count": 22,
   "id": "0b069706-de82-477d-872c-560d4b2d0a5d",
   "metadata": {},
   "outputs": [
    {
     "data": {
      "text/plain": [
       "tuple"
      ]
     },
     "execution_count": 22,
     "metadata": {},
     "output_type": "execute_result"
    }
   ],
   "source": [
    "type(t)"
   ]
  },
  {
   "cell_type": "code",
   "execution_count": null,
   "id": "be25fc02-7437-4bc4-a723-c66bb225fb8c",
   "metadata": {},
   "outputs": [],
   "source": []
  },
  {
   "cell_type": "code",
   "execution_count": null,
   "id": "31961208-7648-42be-8b30-bf17669037dd",
   "metadata": {},
   "outputs": [],
   "source": []
  },
  {
   "cell_type": "markdown",
   "id": "3e120507-07d8-4d70-a914-b0a7f4244c97",
   "metadata": {},
   "source": [
    "Q2. Given are some following variables containing data:\n",
    "\n",
    "(i)\tvar1 = ‘ ‘\n",
    "\n",
    "(ii)\tvar2 = ‘[ DS , ML , Python]’\n",
    "\n",
    "(iii)\tvar3 = [ ‘DS’ , ’ML’ , ‘Python’ ]\n",
    "\n",
    "(iv)\tvar4 = 1.\n",
    "\n",
    "What will be the data type of the above given variable."
   ]
  },
  {
   "cell_type": "code",
   "execution_count": 23,
   "id": "4917f8c2-b812-4b0e-8a09-472c06aa679f",
   "metadata": {},
   "outputs": [],
   "source": [
    "var1=''"
   ]
  },
  {
   "cell_type": "code",
   "execution_count": 24,
   "id": "b3376209-df29-4372-a8f2-8e75d5223408",
   "metadata": {},
   "outputs": [
    {
     "data": {
      "text/plain": [
       "str"
      ]
     },
     "execution_count": 24,
     "metadata": {},
     "output_type": "execute_result"
    }
   ],
   "source": [
    "type(var1)"
   ]
  },
  {
   "cell_type": "code",
   "execution_count": null,
   "id": "e5f690ee-5d3a-4448-bf38-74d1e0d7596b",
   "metadata": {},
   "outputs": [],
   "source": []
  },
  {
   "cell_type": "code",
   "execution_count": 25,
   "id": "42b7ec5c-8b6c-4d1f-bf8c-3f4b761c8285",
   "metadata": {},
   "outputs": [],
   "source": [
    "var2='[DS,ML,Python]'"
   ]
  },
  {
   "cell_type": "code",
   "execution_count": 27,
   "id": "7e6eed9e-3939-415f-8c70-427afc018211",
   "metadata": {},
   "outputs": [
    {
     "data": {
      "text/plain": [
       "str"
      ]
     },
     "execution_count": 27,
     "metadata": {},
     "output_type": "execute_result"
    }
   ],
   "source": [
    "type(var2)"
   ]
  },
  {
   "cell_type": "code",
   "execution_count": null,
   "id": "f9895bed-8824-4795-bb6b-a4dc909b0b0d",
   "metadata": {},
   "outputs": [],
   "source": []
  },
  {
   "cell_type": "code",
   "execution_count": 28,
   "id": "f9a8ceb9-89e0-40a0-be3e-6b6710d105b8",
   "metadata": {},
   "outputs": [],
   "source": [
    "var3=['DS','ML','Python']"
   ]
  },
  {
   "cell_type": "code",
   "execution_count": 29,
   "id": "e4e02a6a-7792-44e2-82e6-8df233a24b0d",
   "metadata": {},
   "outputs": [
    {
     "data": {
      "text/plain": [
       "list"
      ]
     },
     "execution_count": 29,
     "metadata": {},
     "output_type": "execute_result"
    }
   ],
   "source": [
    "type(var3)"
   ]
  },
  {
   "cell_type": "code",
   "execution_count": null,
   "id": "72684500-065a-463f-af89-53ee22c735e9",
   "metadata": {},
   "outputs": [],
   "source": []
  },
  {
   "cell_type": "code",
   "execution_count": 30,
   "id": "50a082f8-0661-4903-adfa-66f567b4c106",
   "metadata": {},
   "outputs": [],
   "source": [
    "var4=1."
   ]
  },
  {
   "cell_type": "code",
   "execution_count": 31,
   "id": "5aaa60bc-c403-40be-beb2-a9b5da09408e",
   "metadata": {},
   "outputs": [
    {
     "data": {
      "text/plain": [
       "float"
      ]
     },
     "execution_count": 31,
     "metadata": {},
     "output_type": "execute_result"
    }
   ],
   "source": [
    "type(var4)"
   ]
  },
  {
   "cell_type": "code",
   "execution_count": null,
   "id": "5f844d1c-f393-4c1c-b6f0-2b3991a62e63",
   "metadata": {},
   "outputs": [],
   "source": []
  },
  {
   "cell_type": "code",
   "execution_count": null,
   "id": "f6e69459-e83d-4c6d-98b8-db943e791aa0",
   "metadata": {},
   "outputs": [],
   "source": []
  },
  {
   "cell_type": "markdown",
   "id": "1f0a9acf-7f2e-4def-96bc-b216147da03c",
   "metadata": {},
   "source": [
    "Q3. Explain the use of the following operators using an example:\n",
    "\n",
    "(i)\t/\n",
    "\n",
    "(ii)\t% \n",
    "\n",
    "(iii)\t//\n",
    "\n",
    "(iv)\t**"
   ]
  },
  {
   "cell_type": "code",
   "execution_count": 41,
   "id": "68ce3bbd-846d-4139-b383-3485ef076031",
   "metadata": {},
   "outputs": [],
   "source": [
    "# (i) /   (it is use to divides left hand operand by right hand operand)"
   ]
  },
  {
   "cell_type": "code",
   "execution_count": 33,
   "id": "1bde7cb3-0329-4ec3-8748-927c02a6d0f6",
   "metadata": {},
   "outputs": [
    {
     "data": {
      "text/plain": [
       "0.5"
      ]
     },
     "execution_count": 33,
     "metadata": {},
     "output_type": "execute_result"
    }
   ],
   "source": [
    "2/4"
   ]
  },
  {
   "cell_type": "code",
   "execution_count": null,
   "id": "c200827d-058d-4f23-9a0d-ad195d66a4f4",
   "metadata": {},
   "outputs": [],
   "source": []
  },
  {
   "cell_type": "code",
   "execution_count": 40,
   "id": "2c15f033-59ea-4f1a-aa9c-7671cbc3dd9c",
   "metadata": {},
   "outputs": [],
   "source": [
    "# (ii)  %    (it can divides left hand operand by right hand operand and returns remainder"
   ]
  },
  {
   "cell_type": "code",
   "execution_count": 35,
   "id": "5fb13ccc-8cf5-40b3-905a-70b50b5e7439",
   "metadata": {},
   "outputs": [
    {
     "data": {
      "text/plain": [
       "1"
      ]
     },
     "execution_count": 35,
     "metadata": {},
     "output_type": "execute_result"
    }
   ],
   "source": [
    "5%2"
   ]
  },
  {
   "cell_type": "code",
   "execution_count": null,
   "id": "d34d3ead-32cf-4d1a-b222-3805a04f8ecc",
   "metadata": {},
   "outputs": [],
   "source": []
  },
  {
   "cell_type": "code",
   "execution_count": 39,
   "id": "e992dbda-e2de-48a9-81df-0b19f0f41163",
   "metadata": {},
   "outputs": [],
   "source": [
    "#(iii)   //   (it is ude for Floor Division)"
   ]
  },
  {
   "cell_type": "code",
   "execution_count": 38,
   "id": "dea7fd2f-7a03-48ff-853f-f6b9af4d0458",
   "metadata": {},
   "outputs": [
    {
     "data": {
      "text/plain": [
       "4"
      ]
     },
     "execution_count": 38,
     "metadata": {},
     "output_type": "execute_result"
    }
   ],
   "source": [
    "9//2"
   ]
  },
  {
   "cell_type": "code",
   "execution_count": null,
   "id": "8be33dbf-1128-4d4b-a439-299a055e53a6",
   "metadata": {},
   "outputs": [],
   "source": []
  },
  {
   "cell_type": "code",
   "execution_count": 44,
   "id": "e02adf20-c3ad-49e6-9d6b-23c32ba65855",
   "metadata": {},
   "outputs": [],
   "source": [
    "#(iv)   **    (it is use to Performs exponential)"
   ]
  },
  {
   "cell_type": "code",
   "execution_count": 43,
   "id": "f90640a0-1ea0-47c6-9b49-a2541b8fb40f",
   "metadata": {},
   "outputs": [
    {
     "data": {
      "text/plain": [
       "8"
      ]
     },
     "execution_count": 43,
     "metadata": {},
     "output_type": "execute_result"
    }
   ],
   "source": [
    "2**3"
   ]
  },
  {
   "cell_type": "code",
   "execution_count": null,
   "id": "b6c523dc-89d1-45b0-8c97-e307a1ab2514",
   "metadata": {},
   "outputs": [],
   "source": []
  },
  {
   "cell_type": "code",
   "execution_count": null,
   "id": "cbaad338-0a09-45cb-9ff2-dd449f45ca84",
   "metadata": {},
   "outputs": [],
   "source": []
  },
  {
   "cell_type": "markdown",
   "id": "2ce689de-f491-4b05-84f0-737aa73a9492",
   "metadata": {},
   "source": [
    "Q4. Create a list of length 10 of your choice containing multiple types of data. Using for loop print the \n",
    "element and its data type."
   ]
  },
  {
   "cell_type": "code",
   "execution_count": 61,
   "id": "73bc882f-f916-4745-bb33-4845948b8d43",
   "metadata": {},
   "outputs": [],
   "source": [
    "l=[\"i\",4,\"am\",3,\"good\",66,\"boy\",8,[1,3],1.0]"
   ]
  },
  {
   "cell_type": "code",
   "execution_count": 57,
   "id": "09b3452a-aa94-4aee-9cfa-b960c750a2e6",
   "metadata": {},
   "outputs": [
    {
     "name": "stdout",
     "output_type": "stream",
     "text": [
      "i\n",
      "4\n",
      "am\n",
      "3\n",
      "good\n",
      "66\n",
      "boy\n",
      "8\n",
      "9\n",
      "10\n"
     ]
    }
   ],
   "source": [
    "for i in l:\n",
    "    print(i)"
   ]
  },
  {
   "cell_type": "code",
   "execution_count": null,
   "id": "0bfcef24-d418-4635-8407-32084cdf80f2",
   "metadata": {},
   "outputs": [],
   "source": []
  },
  {
   "cell_type": "code",
   "execution_count": 62,
   "id": "c40d15e8-562e-432a-b5f7-08b285bfefab",
   "metadata": {},
   "outputs": [
    {
     "name": "stdout",
     "output_type": "stream",
     "text": [
      "<class 'str'>\n",
      "<class 'int'>\n",
      "<class 'str'>\n",
      "<class 'int'>\n",
      "<class 'str'>\n",
      "<class 'int'>\n",
      "<class 'str'>\n",
      "<class 'int'>\n",
      "<class 'list'>\n",
      "<class 'float'>\n"
     ]
    }
   ],
   "source": [
    "for i in l:\n",
    "    print(type(i))"
   ]
  },
  {
   "cell_type": "code",
   "execution_count": null,
   "id": "3c57212a-f219-41aa-8f52-f0d80a2c8fa9",
   "metadata": {},
   "outputs": [],
   "source": []
  },
  {
   "cell_type": "code",
   "execution_count": null,
   "id": "d04b9a47-7242-4c5a-9a4b-5aa2942ba5b1",
   "metadata": {},
   "outputs": [],
   "source": []
  },
  {
   "cell_type": "markdown",
   "id": "1ccb59cd-b007-43c9-bc9b-aed4ba2a8fb7",
   "metadata": {},
   "source": [
    "Q5. Using a while loop, verify if the number A is purely divisible by number B and if so then how many \n",
    "times it can be divisible."
   ]
  },
  {
   "cell_type": "code",
   "execution_count": 13,
   "id": "0006aa08-f05e-491c-82be-b3ae37e69827",
   "metadata": {},
   "outputs": [
    {
     "name": "stdin",
     "output_type": "stream",
     "text": [
      "enter a value of A: 4\n",
      "enter a value of B: 2\n"
     ]
    },
    {
     "name": "stdout",
     "output_type": "stream",
     "text": [
      "A is purely divisible by B , for 2.0 number of times\n"
     ]
    }
   ],
   "source": [
    "A = int(input(\"enter a value of A:\"))\n",
    "B = int(input(\"enter a value of B:\"))\n",
    "while A%B == 0 :\n",
    "    print('A is purely divisible by B , for',A/B,'number of times')\n",
    "    break\n",
    "else:\n",
    "    print('A is not purely divisible by B')"
   ]
  },
  {
   "cell_type": "code",
   "execution_count": null,
   "id": "f6c9a483-c9ac-4c80-b795-04dcf815b36c",
   "metadata": {},
   "outputs": [],
   "source": []
  },
  {
   "cell_type": "code",
   "execution_count": null,
   "id": "019c0f17-b781-4405-809f-d0c8054cadc2",
   "metadata": {},
   "outputs": [],
   "source": []
  },
  {
   "cell_type": "markdown",
   "id": "95f8b455-dc72-45c1-aef3-ad302cd64ac1",
   "metadata": {},
   "source": [
    "Q6. Create a list containing 25 int type data. Using for loop and if-else condition print if the element is \n",
    "divisible by 3 or not."
   ]
  },
  {
   "cell_type": "code",
   "execution_count": 18,
   "id": "9ec9ee03-0a47-4914-a2c5-6670fdffa4fc",
   "metadata": {},
   "outputs": [],
   "source": [
    "l=[2,4,5,33,6,7,67,23,43,56,9,20,32,46,89,80,90,76,87,98,32,11,33,44,31]"
   ]
  },
  {
   "cell_type": "code",
   "execution_count": 28,
   "id": "931d9f17-828c-40e9-b063-decdc801cb50",
   "metadata": {},
   "outputs": [
    {
     "name": "stdout",
     "output_type": "stream",
     "text": [
      "2 i  is not divisible by 3\n",
      "4 i  is not divisible by 3\n",
      "5 i  is not divisible by 3\n",
      "33 i  is divisible by 3\n",
      "6 i  is divisible by 3\n",
      "7 i  is not divisible by 3\n",
      "67 i  is not divisible by 3\n",
      "23 i  is not divisible by 3\n",
      "43 i  is not divisible by 3\n",
      "56 i  is not divisible by 3\n",
      "9 i  is divisible by 3\n",
      "20 i  is not divisible by 3\n",
      "32 i  is not divisible by 3\n",
      "46 i  is not divisible by 3\n",
      "89 i  is not divisible by 3\n",
      "80 i  is not divisible by 3\n",
      "90 i  is divisible by 3\n",
      "76 i  is not divisible by 3\n",
      "87 i  is divisible by 3\n",
      "98 i  is not divisible by 3\n",
      "32 i  is not divisible by 3\n",
      "11 i  is not divisible by 3\n",
      "33 i  is divisible by 3\n",
      "44 i  is not divisible by 3\n",
      "31 i  is not divisible by 3\n"
     ]
    }
   ],
   "source": [
    "for i in l:\n",
    "    if (i%3==0):\n",
    "        print(i,\"i  is divisible by 3\")\n",
    "    else:\n",
    "        print(i,\"i  is not divisible by 3\")"
   ]
  },
  {
   "cell_type": "code",
   "execution_count": null,
   "id": "76302ac4-3133-4b5d-a9ac-72116ee5e6c9",
   "metadata": {},
   "outputs": [],
   "source": []
  },
  {
   "cell_type": "code",
   "execution_count": null,
   "id": "5b7e842c-4657-432e-a311-b4f06f391d21",
   "metadata": {},
   "outputs": [],
   "source": []
  },
  {
   "cell_type": "markdown",
   "id": "0e5cb55b-f49d-46b9-9edd-8e22f02c10e2",
   "metadata": {},
   "source": [
    "Q7. What do you understand about mutable and immutable data types? Give examples for both showing \n",
    "this property"
   ]
  },
  {
   "cell_type": "code",
   "execution_count": 29,
   "id": "1aef92da-f10f-416b-bf62-da740332f4d0",
   "metadata": {},
   "outputs": [],
   "source": [
    "# MUTABLE  :- Mutable objects are those that allow you to change their value or data in place without affecting the object's identity"
   ]
  },
  {
   "cell_type": "code",
   "execution_count": 30,
   "id": "bab207ac-5542-4bbc-804d-3b5b6464044a",
   "metadata": {},
   "outputs": [],
   "source": [
    "L=[2,4,57,4,7,8]"
   ]
  },
  {
   "cell_type": "code",
   "execution_count": 31,
   "id": "2926c1c1-e993-4f9c-9fe8-1346bb7980ee",
   "metadata": {},
   "outputs": [
    {
     "data": {
      "text/plain": [
       "list"
      ]
     },
     "execution_count": 31,
     "metadata": {},
     "output_type": "execute_result"
    }
   ],
   "source": [
    "type(L)"
   ]
  },
  {
   "cell_type": "code",
   "execution_count": 34,
   "id": "7c697255-e4c4-41d5-8c35-230dea984113",
   "metadata": {},
   "outputs": [
    {
     "data": {
      "text/plain": [
       "57"
      ]
     },
     "execution_count": 34,
     "metadata": {},
     "output_type": "execute_result"
    }
   ],
   "source": [
    "L[2]"
   ]
  },
  {
   "cell_type": "code",
   "execution_count": 35,
   "id": "1a996197-6ed8-4119-bbfe-abc02726c74b",
   "metadata": {},
   "outputs": [],
   "source": [
    "L[2]=45"
   ]
  },
  {
   "cell_type": "code",
   "execution_count": 36,
   "id": "57a415c1-30c6-409d-8949-7e84f69db030",
   "metadata": {},
   "outputs": [
    {
     "data": {
      "text/plain": [
       "45"
      ]
     },
     "execution_count": 36,
     "metadata": {},
     "output_type": "execute_result"
    }
   ],
   "source": [
    "L[2]"
   ]
  },
  {
   "cell_type": "code",
   "execution_count": 37,
   "id": "4fad4a73-cf8f-4883-9c78-4d03c966e9f5",
   "metadata": {},
   "outputs": [],
   "source": [
    "#hence  LIST is mutable"
   ]
  },
  {
   "cell_type": "code",
   "execution_count": null,
   "id": "f9cabbfd-2737-4fe4-b115-2195fcd5ca55",
   "metadata": {},
   "outputs": [],
   "source": []
  },
  {
   "cell_type": "code",
   "execution_count": 38,
   "id": "33fae211-fc14-4ed8-8f89-c8f74c705c58",
   "metadata": {},
   "outputs": [],
   "source": [
    "# IMMUTABLE  :-immutable objects don't allow you to change their value or data in place."
   ]
  },
  {
   "cell_type": "code",
   "execution_count": 39,
   "id": "974aa6c6-95fb-42f1-885e-8011eaf8b26e",
   "metadata": {},
   "outputs": [],
   "source": [
    "S=\"ansh\""
   ]
  },
  {
   "cell_type": "code",
   "execution_count": 40,
   "id": "cd1d0487-3c28-497a-b574-0a0460c5cb97",
   "metadata": {},
   "outputs": [
    {
     "data": {
      "text/plain": [
       "str"
      ]
     },
     "execution_count": 40,
     "metadata": {},
     "output_type": "execute_result"
    }
   ],
   "source": [
    "type(S)"
   ]
  },
  {
   "cell_type": "code",
   "execution_count": 41,
   "id": "4fd3c146-5822-473b-8e1a-5367de45a296",
   "metadata": {},
   "outputs": [
    {
     "data": {
      "text/plain": [
       "'s'"
      ]
     },
     "execution_count": 41,
     "metadata": {},
     "output_type": "execute_result"
    }
   ],
   "source": [
    "S[2]"
   ]
  },
  {
   "cell_type": "code",
   "execution_count": 42,
   "id": "945d61c8-5a8e-4c3f-a1d2-930c76164f25",
   "metadata": {},
   "outputs": [
    {
     "ename": "NameError",
     "evalue": "name 'r' is not defined",
     "output_type": "error",
     "traceback": [
      "\u001b[0;31m---------------------------------------------------------------------------\u001b[0m",
      "\u001b[0;31mNameError\u001b[0m                                 Traceback (most recent call last)",
      "Cell \u001b[0;32mIn[42], line 1\u001b[0m\n\u001b[0;32m----> 1\u001b[0m S[\u001b[38;5;241m2\u001b[39m]\u001b[38;5;241m=\u001b[39m\u001b[43mr\u001b[49m\n",
      "\u001b[0;31mNameError\u001b[0m: name 'r' is not defined"
     ]
    }
   ],
   "source": [
    "S[2]=r"
   ]
  },
  {
   "cell_type": "code",
   "execution_count": null,
   "id": "b94a83a1-76d4-4fe9-911e-0bcb5d30daa8",
   "metadata": {},
   "outputs": [],
   "source": [
    "#hence STRING is immutable"
   ]
  }
 ],
 "metadata": {
  "kernelspec": {
   "display_name": "Python 3 (ipykernel)",
   "language": "python",
   "name": "python3"
  },
  "language_info": {
   "codemirror_mode": {
    "name": "ipython",
    "version": 3
   },
   "file_extension": ".py",
   "mimetype": "text/x-python",
   "name": "python",
   "nbconvert_exporter": "python",
   "pygments_lexer": "ipython3",
   "version": "3.10.8"
  }
 },
 "nbformat": 4,
 "nbformat_minor": 5
}
